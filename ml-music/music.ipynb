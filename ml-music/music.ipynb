{
 "cells": [
  {
   "cell_type": "code",
   "execution_count": 19,
   "metadata": {},
   "outputs": [],
   "source": [
    "import pandas as pd\n",
    "from sklearn import tree\n",
    "music_df = pd.read_csv('./data/music.csv')\n",
    "X = music_df[['age', 'gender']]\n",
    "y = music_df['genre']\n",
    "model = tree.DecisionTreeClassifier()\n",
    "model.fit(X, y)\n",
    "tree.export_graphviz(\n",
    "model,\n",
    "out_file='music-recommander.dot',\n",
    "feature_names=['age', 'gender'],\n",
    "class_names=sorted(y.unique()),\n",
    "label='all',\n",
    "filled=True\n",
    ")"
   ]
  }
 ],
 "metadata": {
  "kernelspec": {
   "display_name": "ml-music-venv",
   "language": "python",
   "name": "python3"
  },
  "language_info": {
   "codemirror_mode": {
    "name": "ipython",
    "version": 3
   },
   "file_extension": ".py",
   "mimetype": "text/x-python",
   "name": "python",
   "nbconvert_exporter": "python",
   "pygments_lexer": "ipython3",
   "version": "3.12.1"
  }
 },
 "nbformat": 4,
 "nbformat_minor": 2
}
