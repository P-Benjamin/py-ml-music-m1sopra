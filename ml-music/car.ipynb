{
 "cells": [
  {
   "cell_type": "code",
   "execution_count": 38,
   "metadata": {},
   "outputs": [
    {
     "name": "stdout",
     "output_type": "stream",
     "text": [
      "     Gender  Age  AnnualSalary  Purchased\n",
      "0         1   35         20000          0\n",
      "1         1   40         43500          0\n",
      "2         1   49         74000          0\n",
      "3         1   40        107500          1\n",
      "4         1   25         79000          0\n",
      "..      ...  ...           ...        ...\n",
      "995       1   38         59000          0\n",
      "996       0   47         23500          0\n",
      "997       0   28        138500          1\n",
      "998       0   48        134000          1\n",
      "999       0   44         73500          0\n",
      "\n",
      "[1000 rows x 4 columns]\n"
     ]
    }
   ],
   "source": [
    "import pandas as pd\n",
    "from sklearn.tree import DecisionTreeClassifier\n",
    "from sklearn.model_selection import train_test_split\n",
    "from sklearn.metrics import accuracy_score\n",
    "from sklearn import tree\n",
    "\n",
    "\n",
    "def g(x):\n",
    "    if x == \"Male\":\n",
    "        return 1\n",
    "    else:\n",
    "        return 0\n",
    "\n",
    "car_df = pd.read_csv('./data/car-purchase-decision.csv')\n",
    "\n",
    "car_df = car_df.drop(columns=['User ID'])\n",
    "\n",
    "\n",
    "age_column = car_df['Gender']\n",
    "new_age_column  = age_column.apply(g)\n",
    "\n",
    "car_df['Gender'] = new_age_column\n",
    "\n",
    "\n",
    "\n",
    "print(car_df)\n",
    "\n",
    "X = car_df.drop(columns=['Purchased'])\n",
    "y = car_df['Purchased']\n",
    "X_train, X_test, y_train, y_test = train_test_split(X, y, test_size = 0.2)\n",
    "model = DecisionTreeClassifier()\n",
    "model.fit(X_train, y_train)\n",
    "predictions = model.predict(X_test)\n",
    "# Accuracy score\n",
    "score = accuracy_score(y_test, predictions)\n",
    "score\n",
    "\n",
    "tree.export_graphviz(\n",
    "model,\n",
    "out_file='purchase.dot',\n",
    "feature_names=['Gender', 'Age','AnnualSalary'],\n",
    "class_names=sorted([str(elem) for elem in y.unique()]),\n",
    "label='all',\n",
    "filled=True\n",
    ")\n"
   ]
  }
 ],
 "metadata": {
  "kernelspec": {
   "display_name": "ml-music-venv",
   "language": "python",
   "name": "python3"
  },
  "language_info": {
   "codemirror_mode": {
    "name": "ipython",
    "version": 3
   },
   "file_extension": ".py",
   "mimetype": "text/x-python",
   "name": "python",
   "nbconvert_exporter": "python",
   "pygments_lexer": "ipython3",
   "version": "3.12.1"
  }
 },
 "nbformat": 4,
 "nbformat_minor": 2
}
